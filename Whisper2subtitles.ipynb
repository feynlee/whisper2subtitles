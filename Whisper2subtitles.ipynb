{
  "cells": [
    {
      "cell_type": "markdown",
      "metadata": {
        "id": "view-in-github",
        "colab_type": "text"
      },
      "source": [
        "<a href=\"https://colab.research.google.com/github/feynlee/whisper2subtitles/blob/main/Whisper2subtitles.ipynb\" target=\"_parent\"><img src=\"https://colab.research.google.com/assets/colab-badge.svg\" alt=\"Open In Colab\"/></a>"
      ]
    },
    {
      "cell_type": "markdown",
      "source": [
        "# **Generate Bilingual Subtitles With Whisper**\n",
        "\n",
        "https://github.com/feynlee/whisper2subtitles"
      ],
      "metadata": {
        "id": "KqY3JOBiSHzA"
      }
    },
    {
      "cell_type": "markdown",
      "metadata": {
        "id": "v5hvo8QWN-a9"
      },
      "source": [
        "# Install Requirements\n",
        "\n",
        "\n",
        "The commands below will install the Python packages needed to use Whisper models and evaluate the transcription results."
      ]
    },
    {
      "cell_type": "code",
      "execution_count": null,
      "metadata": {
        "id": "ZsJUxc0aRsAf"
      },
      "outputs": [],
      "source": [
        "!pip install -q git+https://github.com/openai/whisper.git\n",
        "!pip install -q pytube transformers sentencepiece tqdm "
      ]
    },
    {
      "cell_type": "code",
      "source": [
        "#@markdown ### Check Type of GPU and VRAM available.\n",
        "!nvidia-smi --query-gpu=name,memory.total,memory.free --format=csv,noheader"
      ],
      "metadata": {
        "cellView": "form",
        "id": "uk6Hn-_T_6L1",
        "outputId": "64d7c49c-94dc-4518-9db6-a94cc4156943",
        "colab": {
          "base_uri": "https://localhost:8080/"
        }
      },
      "execution_count": 2,
      "outputs": [
        {
          "output_type": "stream",
          "name": "stdout",
          "text": [
            "Tesla T4, 15109 MiB, 15109 MiB\n"
          ]
        }
      ]
    },
    {
      "cell_type": "markdown",
      "source": [
        "# Transcribe the Video"
      ],
      "metadata": {
        "id": "5guXDmlu2Rxn"
      }
    },
    {
      "cell_type": "code",
      "source": [
        "import os\n",
        "from tqdm import tqdm\n",
        "import whisper\n",
        "import numpy as np\n",
        "from pathlib import Path\n",
        "from pytube import YouTube\n",
        "\n",
        "\n",
        "#@markdown If `video_path` is a YouTube link, the video will be downloaded at the `save_path`.\n",
        "video_path = '' #@param {type: 'string'}\n",
        "#@markdown Choose a Whisper model. `base` is the fastest and uses the least amount of memory.\n",
        "model_type = 'small'  #@param [\"base\", \"small\", \"medium\", \"large\"]\n",
        "#@markdown Video Language Code\n",
        "video_lang = 'en'   #@param {type: 'string'}\n",
        "#@markdown Where to save the video and subtitle.\n",
        "save_path = 'data'  #@param {type: 'string'}\n",
        "save_path = Path(save_path)\n",
        "save_path.mkdir(exist_ok=True, parents=True)\n",
        "#@markdown What to name the saved video and subtitle.\n",
        "filename = 'demo' #@param {type: 'string'}\n",
        "#@markdown Which format to save the subtitle in.\n",
        "format = 'srt' #@param [\"srt\", \"txt\"]\n",
        "\n",
        "\n",
        "\n",
        "def get_video_from_youtube_url(url, save_path=None, filename=None):\n",
        "    yt = YouTube(url)\n",
        "    video_file = str(save_path/f'{filename}.mp4')\n",
        "    s = (yt.streams.filter(progressive=True, file_extension='mp4')\n",
        "         .order_by('resolution').desc().first()\n",
        "    )\n",
        "    s.download(filename=video_file)\n",
        "    return video_file\n",
        "\n",
        "\n",
        "def transcribe(video, save_path, filename, model_type='small'):\n",
        "    if video.startswith('http'):\n",
        "        print(\"Downloading Youtube Video\\n\")\n",
        "        video = get_video_from_youtube_url(video, save_path=save_path, filename=filename\n",
        "        )\n",
        "    # predict without timestamps for short-form transcription\n",
        "    options = whisper.DecodingOptions(fp16=False, language=video_lang)\n",
        "    model = whisper.load_model(model_type)\n",
        "    result = model.transcribe(video, **options.__dict__, verbose=False)\n",
        "    return result, video\n",
        "\n",
        "\n",
        "def segments_to_srt(segs):\n",
        "    text = []\n",
        "    for i,s in tqdm(enumerate(segs)):\n",
        "        text.append(str(i+1))\n",
        "\n",
        "        time_start = s['start']\n",
        "        hours, minutes, seconds = int(time_start/3600), (time_start/60) % 60, (time_start) % 60\n",
        "        timestamp_start = \"%02d:%02d:%06.3f\" % (hours, minutes, seconds)\n",
        "        timestamp_start = timestamp_start.replace('.',',')     \n",
        "        time_end = s['end']\n",
        "        hours, minutes, seconds = int(time_end/3600), (time_end/60) % 60, (time_end) % 60\n",
        "        timestamp_end = \"%02d:%02d:%06.3f\" % (hours, minutes, seconds)\n",
        "        timestamp_end = timestamp_end.replace('.',',')        \n",
        "        text.append(timestamp_start + \" --> \" + timestamp_end)\n",
        "\n",
        "        text.append(s['text'].strip() + \"\\n\")\n",
        "            \n",
        "    return \"\\n\".join(text)\n",
        "\n",
        "\n",
        "def convert_to_subtitle(segs):\n",
        "    if format == 'srt':\n",
        "        sub = segments_to_srt(segs)\n",
        "    elif format == 'txt':\n",
        "        sub = transcribed_text(segs)\n",
        "    else:\n",
        "        raise ValueError(f\"format {format} is not supported!\")\n",
        "    return sub\n",
        "    \n",
        "\n",
        "def save_subtitle(sub, save_path, filename, format='srt'):\n",
        "    srt_file = save_path/f'{filename}.{format}'\n",
        "    with open(srt_file, 'w') as f:\n",
        "        f.write(sub)\n",
        "    return srt_file\n",
        "\n",
        "\n",
        "def transcribed_text(segs):\n",
        "    texts = [s['text'] for s in segs]\n",
        "    text = '\\n'.join(texts)\n",
        "    return text\n",
        "\n",
        "\n",
        "print(\"Loading the model\")\n",
        "model = whisper.load_model(f'{model_type}')\n",
        "print(\"Transcribing\")\n",
        "result, video = transcribe(video_path, save_path, filename, model_type=model_type)\n",
        "sub = convert_to_subtitle(result['segments'])\n",
        "sub_transcribed = save_subtitle(sub, save_path, filename+'-sub', format=format)\n",
        "print(f\"\\n\\nsubtitle is saved at {sub_transcribed}\")"
      ],
      "metadata": {
        "id": "hWgLFn4U2T2K",
        "cellView": "form",
        "outputId": "a3ed7c42-b0f9-48ab-b0b4-007b33794b14",
        "colab": {
          "base_uri": "https://localhost:8080/"
        }
      },
      "execution_count": 6,
      "outputs": [
        {
          "output_type": "stream",
          "name": "stdout",
          "text": [
            "Loading the model\n",
            "Transcribing\n",
            "Downloading Youtube Video\n",
            "\n"
          ]
        },
        {
          "output_type": "stream",
          "name": "stderr",
          "text": [
            "100%|██████████| 8405/8405 [00:10<00:00, 789.21frames/s]\n",
            "12it [00:00, 81574.79it/s]"
          ]
        },
        {
          "output_type": "stream",
          "name": "stdout",
          "text": [
            "\n",
            "\n",
            "subtitle is saved at data/demo-sub.srt\n"
          ]
        },
        {
          "output_type": "stream",
          "name": "stderr",
          "text": [
            "\n"
          ]
        }
      ]
    },
    {
      "cell_type": "markdown",
      "source": [
        "# Translate (Optional)\n",
        "\n",
        "### Pick ONLY ONE of the following methods. If you execute both, the translated text will be overwritten."
      ],
      "metadata": {
        "id": "8XrX7A5K1WCD"
      }
    },
    {
      "cell_type": "code",
      "source": [
        "#@markdown ## Method 1: Use Facebook's M2M100 model\n",
        "translation_language_code = 'zh'        #@param {type: 'string'}\n",
        "\n",
        "\n",
        "import ipywidgets as widgets\n",
        "from ipywidgets import TwoByTwoLayout, Layout, HBox, VBox\n",
        "from IPython.display import display\n",
        "from transformers import M2M100ForConditionalGeneration, M2M100Tokenizer\n",
        "\n",
        "\n",
        "def batch_text(result, gs=32):\n",
        "    \"\"\"split list into small groups of group size `gs`.\"\"\"\n",
        "    segs = result['segments']\n",
        "    length = len(segs)\n",
        "    mb = length // gs\n",
        "    text_batches = []\n",
        "    for i in range(mb):\n",
        "        text_batches.append([s['text'] for s in segs[i*gs:(i+1)*gs]])\n",
        "    if mb*gs != length:\n",
        "        text_batches.append([s['text'] for s in segs[mb*gs:length]])\n",
        "    return text_batches\n",
        "\n",
        "\n",
        "def _translate(text, tokenizer, model_tr, src_lang='en', tr_lang='zh'):\n",
        "    tokenizer.src_lang = src_lang\n",
        "    encoded_en = tokenizer(text, return_tensors=\"pt\", padding=True)\n",
        "    generated_tokens = model_tr.generate(**encoded_en, forced_bos_token_id=tokenizer.get_lang_id(tr_lang))\n",
        "    return tokenizer.batch_decode(generated_tokens, skip_special_tokens=True)\n",
        "\n",
        "\n",
        "def batch_translate(texts, tokenizer, model_tr, src_lang='en', tr_lang='zh'):\n",
        "    translated = []\n",
        "    for t in tqdm(texts):\n",
        "        tt = _translate(t, tokenizer, model_tr, src_lang=src_lang, tr_lang=tr_lang)\n",
        "        translated += tt\n",
        "    return translated\n",
        "\n",
        "\n",
        "def translate(result, tr_lang = 'zh'):\n",
        "    ckpt = 'facebook/m2m100_418M'\n",
        "    model_tr = M2M100ForConditionalGeneration.from_pretrained(ckpt)\n",
        "    tokenizer = M2M100Tokenizer.from_pretrained(ckpt)\n",
        "\n",
        "    texts = batch_text(result, gs=32)\n",
        "    texts_tr = batch_translate(texts, tokenizer, model_tr, src_lang=result['language'], tr_lang=tr_lang)\n",
        "\n",
        "    return texts_tr\n",
        "\n",
        "\n",
        "texts_tr = translate(result, tr_lang=translation_language_code)\n",
        "\n",
        "text = transcribed_text(result['segments'])\n",
        "\n",
        "txt_ori = widgets.Textarea(\n",
        "    value=text,\n",
        "    placeholder='Transcribed Text',\n",
        "    description='Original:',\n",
        "    disabled=False,\n",
        "    layout=Layout(width='90%',height='500px')\n",
        ")\n",
        "\n",
        "txt_tr = widgets.Textarea(\n",
        "    value='\\n'.join(texts_tr),\n",
        "    placeholder='Translated Text',\n",
        "    description='Translation:',\n",
        "    disabled=False,\n",
        "    layout=Layout(width='90%',height='500px')\n",
        ")\n",
        "\n",
        "\n",
        "TwoByTwoLayout(bottom_left=txt_ori,\n",
        "               bottom_right=txt_tr)"
      ],
      "metadata": {
        "id": "kVc1gLr3pqxh",
        "cellView": "form"
      },
      "execution_count": null,
      "outputs": []
    },
    {
      "cell_type": "code",
      "source": [
        "#@markdown ## Method 2: Provide Your Own Translation\n",
        "#@markdown 1. Execute this cell\n",
        "#@markdown 2. Copy the transcribed text from the box on the left\n",
        "#@markdown 3. Translate it using other tools (google or deepl or bing) \n",
        "#@markdown 4. Copy the translated text into the text box on the right.\n",
        "#@markdown 5. Click the \"Submit Translation\" button to confirm.\n",
        "\n",
        "#@markdown **Note:** The translated text SHOULD match the original text line by line, otherwise the generated subtitle won't be matched up.\n",
        "\n",
        "#@markdown **Note:** Click the submission button overwrites the translation generated in Method 1.\n",
        "import ipywidgets as widgets\n",
        "from ipywidgets import TwoByTwoLayout, Layout, HBox, VBox\n",
        "from IPython.display import display\n",
        "\n",
        "\n",
        "text = transcribed_text(result['segments'])\n",
        "\n",
        "txt_ori = widgets.Textarea(\n",
        "    value=text,\n",
        "    placeholder='Transcribed Text',\n",
        "    description='Original:',\n",
        "    disabled=False,\n",
        "    layout=Layout(width='90%',height='500px')\n",
        ")\n",
        "\n",
        "txt_tr = widgets.Textarea(\n",
        "    value='',\n",
        "    placeholder='Put Your Translated Text Here',\n",
        "    description='Translation:',\n",
        "    disabled=False,\n",
        "    layout=Layout(width='90%',height='500px')\n",
        ")\n",
        "\n",
        "submit_button=widgets.Button(description='Submit translation',\n",
        "                             button_style='success',\n",
        "                             layout=Layout(float='right')\n",
        "                             )\n",
        "box_layout = widgets.Layout(display='flex',\n",
        "                flex_flow='column',\n",
        "                align_items='flex-end',\n",
        "                width='90%')\n",
        "box=HBox(children=[submit_button],layout=box_layout)\n",
        "\n",
        "\n",
        "def on_button_clicked(b):\n",
        "    global texts_tr\n",
        "    texts_tr = [t.strip() for t in txt_tr.value.split('\\n')]\n",
        "\n",
        "\n",
        "\n",
        "submit_button.on_click(on_button_clicked)\n",
        "TwoByTwoLayout(bottom_left=txt_ori,\n",
        "               bottom_right=VBox(children=[txt_tr, box])\n",
        "               )"
      ],
      "metadata": {
        "colab": {
          "base_uri": "https://localhost:8080/",
          "height": 553,
          "referenced_widgets": [
            "5f7c26dc8582455b8bb1754d90c8c1ab",
            "f937a34265384ccf8216431494bb7082",
            "0da317db4cbb4f6f840bf796f2befe56",
            "65170d2d888b4b19bd2ccc547656d7e4",
            "bd438c63c9354ccf9c8215d699255954",
            "54c8636f029c462592692d59fa7616fd",
            "ab3ced818e9644cfb0f4deb281e271c3",
            "016cbe0b4a7847c49b4dcaa168169a69",
            "8c9c05d92fa947a6b2dac563cba0a79d",
            "ce9e27bb617342ea84be4485161494f5",
            "7c8a7d6162134c6fa5d04f610c1e9a6e",
            "8f5ab67dc2ad4ab7a2b590101edbb7a7",
            "c7eb28ffd3e84b63891786765b20afa5",
            "849b019e499a4f2da9598faf55b7f8bf",
            "3f64898e651a4266aac32420b7242107"
          ]
        },
        "cellView": "form",
        "id": "EnVQi70mAAXH",
        "outputId": "7d43a654-018e-4602-d3a4-a7c3dfd5bf92"
      },
      "execution_count": 8,
      "outputs": [
        {
          "output_type": "display_data",
          "data": {
            "text/plain": [
              "TwoByTwoLayout(children=(Textarea(value=' Many of our customers, particularly those in dense urban areas,\\n un…"
            ],
            "application/vnd.jupyter.widget-view+json": {
              "version_major": 2,
              "version_minor": 0,
              "model_id": "5f7c26dc8582455b8bb1754d90c8c1ab"
            }
          },
          "metadata": {}
        }
      ]
    },
    {
      "cell_type": "code",
      "source": [
        "#@markdown ## Generate translated subtitles\n",
        "#@markdown Position of the translation in the generated subtitles: whether to put the translation above the original. If \"translation only\" is chosen, only the translation will be kept in the subtitle.\n",
        "translation_position = \"top\" #@param [\"top\", \"bottom\", \"translation only\"]\n",
        "import copy\n",
        "\n",
        "\n",
        "if translation_position == \"translation only\":\n",
        "    keep_both = False\n",
        "else:\n",
        "    keep_both = True\n",
        "\n",
        "def combine_translated(segs, text_translated, keep_both=True, tr_pos='top'):\n",
        "    \"Combine the translated text into the 'text' field of segments.\"\n",
        "    comb = []\n",
        "    for s, tr in zip(segs, text_translated):\n",
        "        if keep_both == False:\n",
        "            c = f\"{tr}\\n\"\n",
        "        else:\n",
        "            if tr_pos == 'top':\n",
        "                c = f\"{tr.strip()}\\\\N\\\\N{s['text'].strip()}\\n\"\n",
        "            else:\n",
        "                c = f\"{s['text'].strip()}\\\\N{tr.strip()}\\n\"\n",
        "        s['text'] = c \n",
        "        comb.append(s)\n",
        "    return comb\n",
        "\n",
        "\n",
        "segs_tr = copy.deepcopy(result['segments'])\n",
        "segs_tr = combine_translated(segs_tr, texts_tr, \n",
        "                          keep_both=keep_both, tr_pos=translation_position)\n",
        "sub_tr = convert_to_subtitle(segs_tr)\n",
        "sub_translated = save_subtitle(sub_tr, save_path, \n",
        "                               filename+'-translated_sub', \n",
        "                               format=format)\n",
        "print(f'translated subtitle is saved at {sub_translated}')"
      ],
      "metadata": {
        "id": "ABx5Loou8u0C",
        "cellView": "form"
      },
      "execution_count": null,
      "outputs": []
    },
    {
      "cell_type": "markdown",
      "source": [
        "# Burn Subtitles Into the Video (Optional)"
      ],
      "metadata": {
        "id": "37c6t8TB4ecx"
      }
    },
    {
      "cell_type": "code",
      "source": [
        "!apt install -q ffmpeg\n",
        "!pip install -q ffpb"
      ],
      "metadata": {
        "id": "VoUd7a5u4tTD"
      },
      "execution_count": null,
      "outputs": []
    },
    {
      "cell_type": "code",
      "source": [
        "subtitled = os.path.join(save_path, f'{filename}-subtitled.mp4')\n",
        "!ffpb -i $video -vf subtitles=$sub_transcribed -y $subtitled\n",
        "\n",
        "# For the translated subtitle in another language, you may need to get corresponding font in order for it to be displayed correctly in video.\n",
        "# !ffpb -i $video -vf subtitles=$sub_translated -y $subtitled"
      ],
      "metadata": {
        "id": "Ouh2QWBd7Boo"
      },
      "execution_count": null,
      "outputs": []
    },
    {
      "cell_type": "code",
      "source": [],
      "metadata": {
        "id": "CP-micZw_kqZ"
      },
      "execution_count": null,
      "outputs": []
    }
  ],
  "metadata": {
    "accelerator": "GPU",
    "colab": {
      "provenance": [],
      "machine_shape": "hm",
      "include_colab_link": true
    },
    "gpuClass": "premium",
    "kernelspec": {
      "display_name": "Python 3 (ipykernel)",
      "language": "python",
      "name": "python3"
    },
    "language_info": {
      "codemirror_mode": {
        "name": "ipython",
        "version": 3
      },
      "file_extension": ".py",
      "mimetype": "text/x-python",
      "name": "python",
      "nbconvert_exporter": "python",
      "pygments_lexer": "ipython3",
      "version": "3.9.9"
    },
    "widgets": {
      "application/vnd.jupyter.widget-state+json": {
        "5f7c26dc8582455b8bb1754d90c8c1ab": {
          "model_module": "@jupyter-widgets/controls",
          "model_name": "GridBoxModel",
          "model_module_version": "1.5.0",
          "state": {
            "_dom_classes": [],
            "_model_module": "@jupyter-widgets/controls",
            "_model_module_version": "1.5.0",
            "_model_name": "GridBoxModel",
            "_view_count": null,
            "_view_module": "@jupyter-widgets/controls",
            "_view_module_version": "1.5.0",
            "_view_name": "GridBoxView",
            "box_style": "",
            "children": [
              "IPY_MODEL_f937a34265384ccf8216431494bb7082",
              "IPY_MODEL_0da317db4cbb4f6f840bf796f2befe56"
            ],
            "layout": "IPY_MODEL_65170d2d888b4b19bd2ccc547656d7e4"
          }
        },
        "f937a34265384ccf8216431494bb7082": {
          "model_module": "@jupyter-widgets/controls",
          "model_name": "TextareaModel",
          "model_module_version": "1.5.0",
          "state": {
            "_dom_classes": [],
            "_model_module": "@jupyter-widgets/controls",
            "_model_module_version": "1.5.0",
            "_model_name": "TextareaModel",
            "_view_count": null,
            "_view_module": "@jupyter-widgets/controls",
            "_view_module_version": "1.5.0",
            "_view_name": "TextareaView",
            "continuous_update": true,
            "description": "Original:",
            "description_tooltip": null,
            "disabled": false,
            "layout": "IPY_MODEL_bd438c63c9354ccf9c8215d699255954",
            "placeholder": "Transcribed Text",
            "rows": null,
            "style": "IPY_MODEL_54c8636f029c462592692d59fa7616fd",
            "value": ""
          }
        },
        "0da317db4cbb4f6f840bf796f2befe56": {
          "model_module": "@jupyter-widgets/controls",
          "model_name": "VBoxModel",
          "model_module_version": "1.5.0",
          "state": {
            "_dom_classes": [],
            "_model_module": "@jupyter-widgets/controls",
            "_model_module_version": "1.5.0",
            "_model_name": "VBoxModel",
            "_view_count": null,
            "_view_module": "@jupyter-widgets/controls",
            "_view_module_version": "1.5.0",
            "_view_name": "VBoxView",
            "box_style": "",
            "children": [
              "IPY_MODEL_ab3ced818e9644cfb0f4deb281e271c3",
              "IPY_MODEL_016cbe0b4a7847c49b4dcaa168169a69"
            ],
            "layout": "IPY_MODEL_8c9c05d92fa947a6b2dac563cba0a79d"
          }
        },
        "65170d2d888b4b19bd2ccc547656d7e4": {
          "model_module": "@jupyter-widgets/base",
          "model_name": "LayoutModel",
          "model_module_version": "1.2.0",
          "state": {
            "_model_module": "@jupyter-widgets/base",
            "_model_module_version": "1.2.0",
            "_model_name": "LayoutModel",
            "_view_count": null,
            "_view_module": "@jupyter-widgets/base",
            "_view_module_version": "1.2.0",
            "_view_name": "LayoutView",
            "align_content": null,
            "align_items": null,
            "align_self": null,
            "border": null,
            "bottom": null,
            "display": null,
            "flex": null,
            "flex_flow": null,
            "grid_area": null,
            "grid_auto_columns": null,
            "grid_auto_flow": null,
            "grid_auto_rows": null,
            "grid_column": null,
            "grid_gap": null,
            "grid_row": null,
            "grid_template_areas": "\"bottom-left bottom-right\"\n\"bottom-left bottom-right\"",
            "grid_template_columns": "1fr 1fr",
            "grid_template_rows": "1fr 1fr",
            "height": null,
            "justify_content": null,
            "justify_items": null,
            "left": null,
            "margin": null,
            "max_height": null,
            "max_width": null,
            "min_height": null,
            "min_width": null,
            "object_fit": null,
            "object_position": null,
            "order": null,
            "overflow": null,
            "overflow_x": null,
            "overflow_y": null,
            "padding": null,
            "right": null,
            "top": null,
            "visibility": null,
            "width": null
          }
        },
        "bd438c63c9354ccf9c8215d699255954": {
          "model_module": "@jupyter-widgets/base",
          "model_name": "LayoutModel",
          "model_module_version": "1.2.0",
          "state": {
            "_model_module": "@jupyter-widgets/base",
            "_model_module_version": "1.2.0",
            "_model_name": "LayoutModel",
            "_view_count": null,
            "_view_module": "@jupyter-widgets/base",
            "_view_module_version": "1.2.0",
            "_view_name": "LayoutView",
            "align_content": null,
            "align_items": null,
            "align_self": null,
            "border": null,
            "bottom": null,
            "display": null,
            "flex": null,
            "flex_flow": null,
            "grid_area": "bottom-left",
            "grid_auto_columns": null,
            "grid_auto_flow": null,
            "grid_auto_rows": null,
            "grid_column": null,
            "grid_gap": null,
            "grid_row": null,
            "grid_template_areas": null,
            "grid_template_columns": null,
            "grid_template_rows": null,
            "height": "500px",
            "justify_content": null,
            "justify_items": null,
            "left": null,
            "margin": null,
            "max_height": null,
            "max_width": null,
            "min_height": null,
            "min_width": null,
            "object_fit": null,
            "object_position": null,
            "order": null,
            "overflow": null,
            "overflow_x": null,
            "overflow_y": null,
            "padding": null,
            "right": null,
            "top": null,
            "visibility": null,
            "width": "90%"
          }
        },
        "54c8636f029c462592692d59fa7616fd": {
          "model_module": "@jupyter-widgets/controls",
          "model_name": "DescriptionStyleModel",
          "model_module_version": "1.5.0",
          "state": {
            "_model_module": "@jupyter-widgets/controls",
            "_model_module_version": "1.5.0",
            "_model_name": "DescriptionStyleModel",
            "_view_count": null,
            "_view_module": "@jupyter-widgets/base",
            "_view_module_version": "1.2.0",
            "_view_name": "StyleView",
            "description_width": ""
          }
        },
        "ab3ced818e9644cfb0f4deb281e271c3": {
          "model_module": "@jupyter-widgets/controls",
          "model_name": "TextareaModel",
          "model_module_version": "1.5.0",
          "state": {
            "_dom_classes": [],
            "_model_module": "@jupyter-widgets/controls",
            "_model_module_version": "1.5.0",
            "_model_name": "TextareaModel",
            "_view_count": null,
            "_view_module": "@jupyter-widgets/controls",
            "_view_module_version": "1.5.0",
            "_view_name": "TextareaView",
            "continuous_update": true,
            "description": "Translation:",
            "description_tooltip": null,
            "disabled": false,
            "layout": "IPY_MODEL_ce9e27bb617342ea84be4485161494f5",
            "placeholder": "Put Your Translated Text Here",
            "rows": null,
            "style": "IPY_MODEL_7c8a7d6162134c6fa5d04f610c1e9a6e",
            "value": ""
          }
        },
        "016cbe0b4a7847c49b4dcaa168169a69": {
          "model_module": "@jupyter-widgets/controls",
          "model_name": "HBoxModel",
          "model_module_version": "1.5.0",
          "state": {
            "_dom_classes": [],
            "_model_module": "@jupyter-widgets/controls",
            "_model_module_version": "1.5.0",
            "_model_name": "HBoxModel",
            "_view_count": null,
            "_view_module": "@jupyter-widgets/controls",
            "_view_module_version": "1.5.0",
            "_view_name": "HBoxView",
            "box_style": "",
            "children": [
              "IPY_MODEL_8f5ab67dc2ad4ab7a2b590101edbb7a7"
            ],
            "layout": "IPY_MODEL_c7eb28ffd3e84b63891786765b20afa5"
          }
        },
        "8c9c05d92fa947a6b2dac563cba0a79d": {
          "model_module": "@jupyter-widgets/base",
          "model_name": "LayoutModel",
          "model_module_version": "1.2.0",
          "state": {
            "_model_module": "@jupyter-widgets/base",
            "_model_module_version": "1.2.0",
            "_model_name": "LayoutModel",
            "_view_count": null,
            "_view_module": "@jupyter-widgets/base",
            "_view_module_version": "1.2.0",
            "_view_name": "LayoutView",
            "align_content": null,
            "align_items": null,
            "align_self": null,
            "border": null,
            "bottom": null,
            "display": null,
            "flex": null,
            "flex_flow": null,
            "grid_area": "bottom-right",
            "grid_auto_columns": null,
            "grid_auto_flow": null,
            "grid_auto_rows": null,
            "grid_column": null,
            "grid_gap": null,
            "grid_row": null,
            "grid_template_areas": null,
            "grid_template_columns": null,
            "grid_template_rows": null,
            "height": null,
            "justify_content": null,
            "justify_items": null,
            "left": null,
            "margin": null,
            "max_height": null,
            "max_width": null,
            "min_height": null,
            "min_width": null,
            "object_fit": null,
            "object_position": null,
            "order": null,
            "overflow": null,
            "overflow_x": null,
            "overflow_y": null,
            "padding": null,
            "right": null,
            "top": null,
            "visibility": null,
            "width": null
          }
        },
        "ce9e27bb617342ea84be4485161494f5": {
          "model_module": "@jupyter-widgets/base",
          "model_name": "LayoutModel",
          "model_module_version": "1.2.0",
          "state": {
            "_model_module": "@jupyter-widgets/base",
            "_model_module_version": "1.2.0",
            "_model_name": "LayoutModel",
            "_view_count": null,
            "_view_module": "@jupyter-widgets/base",
            "_view_module_version": "1.2.0",
            "_view_name": "LayoutView",
            "align_content": null,
            "align_items": null,
            "align_self": null,
            "border": null,
            "bottom": null,
            "display": null,
            "flex": null,
            "flex_flow": null,
            "grid_area": null,
            "grid_auto_columns": null,
            "grid_auto_flow": null,
            "grid_auto_rows": null,
            "grid_column": null,
            "grid_gap": null,
            "grid_row": null,
            "grid_template_areas": null,
            "grid_template_columns": null,
            "grid_template_rows": null,
            "height": "500px",
            "justify_content": null,
            "justify_items": null,
            "left": null,
            "margin": null,
            "max_height": null,
            "max_width": null,
            "min_height": null,
            "min_width": null,
            "object_fit": null,
            "object_position": null,
            "order": null,
            "overflow": null,
            "overflow_x": null,
            "overflow_y": null,
            "padding": null,
            "right": null,
            "top": null,
            "visibility": null,
            "width": "90%"
          }
        },
        "7c8a7d6162134c6fa5d04f610c1e9a6e": {
          "model_module": "@jupyter-widgets/controls",
          "model_name": "DescriptionStyleModel",
          "model_module_version": "1.5.0",
          "state": {
            "_model_module": "@jupyter-widgets/controls",
            "_model_module_version": "1.5.0",
            "_model_name": "DescriptionStyleModel",
            "_view_count": null,
            "_view_module": "@jupyter-widgets/base",
            "_view_module_version": "1.2.0",
            "_view_name": "StyleView",
            "description_width": ""
          }
        },
        "8f5ab67dc2ad4ab7a2b590101edbb7a7": {
          "model_module": "@jupyter-widgets/controls",
          "model_name": "ButtonModel",
          "model_module_version": "1.5.0",
          "state": {
            "_dom_classes": [],
            "_model_module": "@jupyter-widgets/controls",
            "_model_module_version": "1.5.0",
            "_model_name": "ButtonModel",
            "_view_count": null,
            "_view_module": "@jupyter-widgets/controls",
            "_view_module_version": "1.5.0",
            "_view_name": "ButtonView",
            "button_style": "success",
            "description": "Submit translation",
            "disabled": false,
            "icon": "",
            "layout": "IPY_MODEL_849b019e499a4f2da9598faf55b7f8bf",
            "style": "IPY_MODEL_3f64898e651a4266aac32420b7242107",
            "tooltip": ""
          }
        },
        "c7eb28ffd3e84b63891786765b20afa5": {
          "model_module": "@jupyter-widgets/base",
          "model_name": "LayoutModel",
          "model_module_version": "1.2.0",
          "state": {
            "_model_module": "@jupyter-widgets/base",
            "_model_module_version": "1.2.0",
            "_model_name": "LayoutModel",
            "_view_count": null,
            "_view_module": "@jupyter-widgets/base",
            "_view_module_version": "1.2.0",
            "_view_name": "LayoutView",
            "align_content": null,
            "align_items": "flex-end",
            "align_self": null,
            "border": null,
            "bottom": null,
            "display": "flex",
            "flex": null,
            "flex_flow": "column",
            "grid_area": null,
            "grid_auto_columns": null,
            "grid_auto_flow": null,
            "grid_auto_rows": null,
            "grid_column": null,
            "grid_gap": null,
            "grid_row": null,
            "grid_template_areas": null,
            "grid_template_columns": null,
            "grid_template_rows": null,
            "height": null,
            "justify_content": null,
            "justify_items": null,
            "left": null,
            "margin": null,
            "max_height": null,
            "max_width": null,
            "min_height": null,
            "min_width": null,
            "object_fit": null,
            "object_position": null,
            "order": null,
            "overflow": null,
            "overflow_x": null,
            "overflow_y": null,
            "padding": null,
            "right": null,
            "top": null,
            "visibility": null,
            "width": "90%"
          }
        },
        "849b019e499a4f2da9598faf55b7f8bf": {
          "model_module": "@jupyter-widgets/base",
          "model_name": "LayoutModel",
          "model_module_version": "1.2.0",
          "state": {
            "_model_module": "@jupyter-widgets/base",
            "_model_module_version": "1.2.0",
            "_model_name": "LayoutModel",
            "_view_count": null,
            "_view_module": "@jupyter-widgets/base",
            "_view_module_version": "1.2.0",
            "_view_name": "LayoutView",
            "align_content": null,
            "align_items": null,
            "align_self": null,
            "border": null,
            "bottom": null,
            "display": null,
            "flex": null,
            "flex_flow": null,
            "grid_area": null,
            "grid_auto_columns": null,
            "grid_auto_flow": null,
            "grid_auto_rows": null,
            "grid_column": null,
            "grid_gap": null,
            "grid_row": null,
            "grid_template_areas": null,
            "grid_template_columns": null,
            "grid_template_rows": null,
            "height": null,
            "justify_content": null,
            "justify_items": null,
            "left": null,
            "margin": null,
            "max_height": null,
            "max_width": null,
            "min_height": null,
            "min_width": null,
            "object_fit": null,
            "object_position": null,
            "order": null,
            "overflow": null,
            "overflow_x": null,
            "overflow_y": null,
            "padding": null,
            "right": null,
            "top": null,
            "visibility": null,
            "width": null
          }
        },
        "3f64898e651a4266aac32420b7242107": {
          "model_module": "@jupyter-widgets/controls",
          "model_name": "ButtonStyleModel",
          "model_module_version": "1.5.0",
          "state": {
            "_model_module": "@jupyter-widgets/controls",
            "_model_module_version": "1.5.0",
            "_model_name": "ButtonStyleModel",
            "_view_count": null,
            "_view_module": "@jupyter-widgets/base",
            "_view_module_version": "1.2.0",
            "_view_name": "StyleView",
            "button_color": null,
            "font_weight": ""
          }
        }
      }
    }
  },
  "nbformat": 4,
  "nbformat_minor": 0
}